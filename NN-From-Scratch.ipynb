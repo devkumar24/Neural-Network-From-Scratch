{
 "cells": [
  {
   "cell_type": "markdown",
   "metadata": {},
   "source": [
    "### Code-NN\n",
    " - It is way similar to tensorflow model but not as tensorflow, tensorflow is more advance than \n",
    "    this, but I am improving this a lot that It should compete tensorflow"
   ]
  },
  {
   "cell_type": "code",
   "execution_count": 1,
   "metadata": {},
   "outputs": [
    {
     "name": "stderr",
     "output_type": "stream",
     "text": [
      "Using TensorFlow backend.\n",
      "F:\\Anaconda_Files\\Anaconda\\envs\\tensorflow-env\\lib\\importlib\\_bootstrap.py:219: RuntimeWarning: numpy.ufunc size changed, may indicate binary incompatibility. Expected 192 from C header, got 216 from PyObject\n",
      "  return f(*args, **kwds)\n"
     ]
    }
   ],
   "source": [
    "import numpy as np\n",
    "import matplotlib.pyplot as plt\n",
    "from keras.utils import to_categorical\n",
    "from sklearn.datasets import make_blobs,make_circles,make_classification"
   ]
  },
  {
   "cell_type": "code",
   "execution_count": 2,
   "metadata": {},
   "outputs": [],
   "source": [
    "X = np.array([\n",
    "    [0,0],\n",
    "    [1,0],\n",
    "    [0,1],\n",
    "    [1,1]\n",
    "])\n",
    "y = np.array([0,1,1,0])\n",
    "y = y.reshape(-1,1)"
   ]
  },
  {
   "cell_type": "code",
   "execution_count": 3,
   "metadata": {},
   "outputs": [
    {
     "data": {
      "text/plain": [
       "((4, 2), (4, 1))"
      ]
     },
     "execution_count": 3,
     "metadata": {},
     "output_type": "execute_result"
    }
   ],
   "source": [
    "X.shape,y.shape"
   ]
  },
  {
   "cell_type": "code",
   "execution_count": 4,
   "metadata": {},
   "outputs": [
    {
     "data": {
      "image/png": "[encoded data removed]",
      "text/plain": [
       "<Figure size 432x288 with 1 Axes>"
      ]
     },
     "metadata": {
      "needs_background": "light"
     },
     "output_type": "display_data"
    }
   ],
   "source": [
    "plt.scatter(X[:,0],X[:,1],c = y)\n",
    "plt.show()"
   ]
  },
  {
   "cell_type": "code",
   "execution_count": 5,
   "metadata": {},
   "outputs": [],
   "source": [
    "def ReLu(Z):\n",
    "    return np.maximum(0,Z)"
   ]
  },
  {
   "cell_type": "code",
   "execution_count": 6,
   "metadata": {},
   "outputs": [],
   "source": [
    "def softmax(y):\n",
    "    \"\"\"\n",
    "    softmax = e^y(i)/sum(e^y(i))\n",
    "    \"\"\"\n",
    "    \n",
    "    ea = np.exp(y)\n",
    "    \n",
    "    total = ea/np.sum(ea,axis = 1,keepdims=True)\n",
    "        \n",
    "    return total"
   ]
  },
  {
   "cell_type": "code",
   "execution_count": 103,
   "metadata": {},
   "outputs": [],
   "source": [
    "class MLP:\n",
    "    \n",
    "    def __init__(self,hidden_layers,output_layer,input_layer,activation = \"relu\",output_layer_activation = \"softmax\"):\n",
    "        # Dictionary of all layers with its weight and bias\n",
    "        model_layers = {}\n",
    "        # make self varible for activation\n",
    "        self.activation = activation\n",
    "        # Total no of layers include input + hidden + output layers \n",
    "        total_layers = 1 + len(hidden_layers) + 1\n",
    "        # layers list [input_layer,hidden_layer,output_layer]\n",
    "        # layers[0]--->input_layer\n",
    "        #layers[total_layer-1]--->output_layer\n",
    "        layers = []\n",
    "        layers.append(input_layer)\n",
    "        for i in hidden_layers:\n",
    "            layers.append(i)\n",
    "        layers.append(output_layer)\n",
    "        layers = np.array(layers)\n",
    "        for layer_no in range(total_layers-1):\n",
    "            model_layers[layer_no] = [np.random.randn(layers[layer_no],layers[layer_no+1]),np.zeros((1,layers[layer_no+1]))]\n",
    "        # make class variable self.model_layers to store model_layers\n",
    "        self.model_layers = model_layers\n",
    "        \n",
    "    # function to do forward pass\n",
    "    def forward_propagation(self,X):\n",
    "        '''\n",
    "        This function forward_propagation will make model variable that is having \n",
    "        self.model_layers which includes weight and bias for particular layer,\n",
    "        then it will 4 list i.e., activation units,weight matrix,bias matrix and \n",
    "        Z matrix, and it will return last activation unit.\n",
    "        \n",
    "        \n",
    "        Take an input X(array) and do forward pass operation and return last activation\n",
    "        function.\n",
    "        \n",
    "        example ->\n",
    "        Input: X(array)\n",
    "        Operation: hidden_layers = [4,3]\n",
    "                   input_layer = 2\n",
    "                   output_layer = 2\n",
    "                   \n",
    "                   total_layers = 4\n",
    "                   layers = [2,4,3,2]\n",
    "                   \n",
    "                   Z[0] = X*W[0] + b[0]\n",
    "                   A[0] = activation_function(Z[0])\n",
    "                   \n",
    "                   Z[1] = A[1]*W[1] + b[1]\n",
    "                   A[1] = activation_function(Z[1])\n",
    "        \n",
    "                   Z[2] = A[1]*W[2] + b[2]\n",
    "                   A[2] = activation_function(Z[2])\n",
    "                   \n",
    "        Output: A[2]\n",
    "        '''\n",
    "        # make model variable of self.model_layers\n",
    "        model  = self.model_layers\n",
    "        # make 4 lists of weight metrics, bias metrics, activation metrics, Z metrics\n",
    "        W = []\n",
    "        b = []\n",
    "        Z = []\n",
    "        A = []\n",
    "        # append values in Weight metrics and bias metrics\n",
    "        for key in model.keys():\n",
    "            W.append(model[key][0])\n",
    "            b.append(model[key][1])\n",
    "        W = np.array(W)\n",
    "        # append values in activation units metrics and Z mertics \n",
    "        for i in range(W.shape[0]):\n",
    "            if i == 0:\n",
    "                Z.append(np.dot(X,W[0]) + b[0])\n",
    "                A.append(np.tanh(Z[0]))\n",
    "                \n",
    "            else :\n",
    "                if i == W.shape[0] - 1:\n",
    "                    Z.append(np.dot(A[i-1],W[i]) + b[i])\n",
    "                    A.append(softmax(Z[i]))\n",
    "                else:\n",
    "                    Z.append(np.dot(A[i-1],W[i]) + b[i])\n",
    "                    A.append(np.tanh(Z[i]))\n",
    "                    \n",
    "        # make class variables of all four lists\n",
    "        self.activation_units = (A)\n",
    "        self.W = (W)\n",
    "        self.b = (b)\n",
    "        self.Z = (Z)\n",
    "        \n",
    "        return A[-1]\n",
    "    \n",
    "    # function to do backpropagation in Multi Layer Perceptron\n",
    "    def backward_propagation(self,X,y,learning_rate = 0.01):\n",
    "        '''\n",
    "        This function backward_propagation is initally taking self.model_layers,\n",
    "        self.W,self.b,self.activation_units these 4 will help to do backpropagation \n",
    "        in Multi Layer Perceptron.\n",
    "        \n",
    "        As above 4 things will help in computing dZ,dW,db i.e., the derivatives of Z metrics,\n",
    "        Weight metrics and bias metrics and later perform gradient descent algo. and\n",
    "        update weight and biases\n",
    "        \n",
    "        It takes an input as X(input array) and its prediction array(y), and takes an\n",
    "        input hyper-parameter learning_rate to perform gradient descent algo.\n",
    "        \n",
    "        Therefore, \n",
    "            Backpropagation is basiaclly perform gardient descent algo, and is to\n",
    "            compute dZ,dW,db \n",
    "        example ->\n",
    "        Input: X(input array)\n",
    "        Operation: To Compute dZ,dW,db\n",
    "                   we need W,b,Z,A\n",
    "                   \n",
    "                   dZ[2] = A[2] - y\n",
    "                   dW[2] = (A[1].dZ[2])\n",
    "                   db[2] = dZ[2]\n",
    "                   \n",
    "                   dZ[1] = derivative of activation_function * (dZ[2]*W[2])\n",
    "                   dW[1] = (A[0].dZ[1])\n",
    "                   db[1] = dZ[1]\n",
    "                   \n",
    "                   dZ[0] = derivative of activation_function * (dZ[1]*W[1])\n",
    "                   dW[0] = (X.dZ[0])\n",
    "                   db[0] = dZ[0]\n",
    "                   \n",
    "        Output: Perfrom Gradient Descent Algo\n",
    "                W[i] -= learning_rate * dW[i]\n",
    "                b[i] -= learning_rate * db[i]\n",
    "        '''\n",
    "        # make model variable of self.model_layers\n",
    "        model  = self.model_layers\n",
    "        W = self.W\n",
    "        b = self.b\n",
    "        A = self.activation_units\n",
    "        dZ = []\n",
    "        db = []\n",
    "        dW = []\n",
    "        # calculate dZ\n",
    "        for i in reversed(range(W.shape[0])):\n",
    "            if i == W.shape[0] - 1:\n",
    "                dZ.append(A[i] - y)    \n",
    "            else:\n",
    "                if i == 0:\n",
    "                    dZ.append( (1-np.square(A[i])) * np.dot(dZ[W.shape[0]-i-2],W[i+1].T) )\n",
    "                else:\n",
    "                    dZ.append( (1-np.square(A[i])) * np.dot(dZ[W.shape[0]-i-2],W[i+1].T) )\n",
    "        # reverse dZ so that dZ will get be related to dW and db\n",
    "        dZ = dZ[::-1]\n",
    "        # calculate dW and db\n",
    "        for i in range(W.shape[0]):\n",
    "            if i == W.shape[0] - 1:\n",
    "                dW.append(np.dot(A[i-1].T,dZ[i]))\n",
    "                db.append(np.sum(dZ[i],axis = 0))    \n",
    "            else:\n",
    "                if i == 0:\n",
    "                    dW.append(np.dot(X.T,dZ[i]))\n",
    "                    db.append(np.sum(dZ[i],axis = 0))\n",
    "                else:\n",
    "                    dW.append(np.dot(A[i-1].T,dZ[i]))\n",
    "                    db.append(np.sum(dZ[i],axis = 0))\n",
    "            \n",
    "            # perform gradient descent algo.\n",
    "            W[i] -= learning_rate * dW[i]\n",
    "            b[i] -= learning_rate * db[i]\n",
    "        # class variable to store W and b, after updation\n",
    "        self.W = W\n",
    "        self.b = b\n",
    "        \n",
    "    # Predict function to perform prediction\n",
    "    def predict(self,X):\n",
    "        '''\n",
    "        This function will takes an x_query as input and return the output as per\n",
    "        given y(prediction)\n",
    "        \n",
    "        Return:\n",
    "            1: Probabilities \n",
    "            2: index of max probability\n",
    "        '''\n",
    "        y_out = self.forward_propagation(X)\n",
    "        \n",
    "        return y_out,np.argmax(y_out,axis = 1)\n",
    "    \n",
    "    # Loss Function to calculate loss\n",
    "    def loss(self,y_opt,p):\n",
    "        '''\n",
    "        It will calculate mean squared loss, i.e., categorical cross_entropy loss\n",
    "        \n",
    "        retuurn loss\n",
    "        '''\n",
    "        l = np.mean(y_opt*np.log(p))\n",
    "        return -l\n",
    "    \n",
    "    # Training Function\n",
    "    def train(self,X,y,batch_size,epochs,metrics):\n",
    "        '''\n",
    "        This Train function is basically doing training and perform particular metrics like \n",
    "        \"accurcay\",\"r2Score\", depend on what we calculate, \n",
    "        and it will predict loss after every loss,\n",
    "        it contains a list of training loss, that contains all the losses(the loss calculated after\n",
    "        every iteration,\n",
    "        example->\n",
    "         X.shape[0] = 500\n",
    "         BATCH_SIZE = 32\n",
    "         NO_OF_ITERATIONS = int(X.shape[0]/BATCH_SIZE)-1\n",
    "         training_loss.shape = (len(NO_OF_ITERATIONS))\n",
    "         ).\n",
    "         \n",
    "        Prediction score will be calcuated after each epoch, and it is also having a numpy.ndarray\n",
    "        that store all the prediction score, for each iteration, and shape is same as training_loss\n",
    "        $ y should be one hot vector\n",
    "        $ training_loss is numpy.ndarray\n",
    "        $ epochs is hyper parameter\n",
    "        $ metrics is hyper parameter\n",
    "        '''\n",
    "        training_loss = []\n",
    "        y_opt = to_categorical(y)\n",
    "        \n",
    "        for i in range(epochs):\n",
    "            print(\"EPOCH-->{}\".format(i+1))\n",
    "            for j in range(int(X.shape[0]/batch_size) - 1):\n",
    "                Y_ = self.forward_propagation(X[j*batch_size:(j+1)*batch_size])\n",
    "                l = self.loss(y_opt[j*batch_size:(j+1)*batch_size],Y_)\n",
    "                self.backward_propagation(X[j*batch_size:(j+1)*batch_size],y_opt[j*batch_size:(j+1)*batch_size])\n",
    "                training_loss.append(l)\n",
    "            print(\" Training Loss----->  \",l)\n",
    "            \n",
    "        y_pred = []\n",
    "        if metrics == \"accuracy\":\n",
    "            for i in range(X.shape[0]):\n",
    "                output,index = self.predict(X[i])\n",
    "                y_pred.append(index)\n",
    "            acc = np.sum(y_pred == y)/y.shape[0]\n",
    "        return training_loss,acc*100\n",
    "    \n",
    "    "
   ]
  },
  {
   "cell_type": "code",
   "execution_count": 108,
   "metadata": {},
   "outputs": [],
   "source": [
    "model = MLP(hidden_layers=[4,3],output_layer=2,input_layer=2)"
   ]
  },
  {
   "cell_type": "code",
   "execution_count": 109,
   "metadata": {},
   "outputs": [
    {
     "name": "stdout",
     "output_type": "stream",
     "text": [
      "EPOCH-->1\n",
      " Training Loss----->   0.23499497921370516\n",
      "EPOCH-->2\n",
      " Training Loss----->   0.22313222519797712\n",
      "EPOCH-->3\n",
      " Training Loss----->   0.21261469219969253\n",
      "EPOCH-->4\n",
      " Training Loss----->   0.20330271698735047\n",
      "EPOCH-->5\n",
      " Training Loss----->   0.19505187976989075\n",
      "EPOCH-->6\n",
      " Training Loss----->   0.18772306052703222\n",
      "EPOCH-->7\n",
      " Training Loss----->   0.18118837723582426\n",
      "EPOCH-->8\n",
      " Training Loss----->   0.1753339864285565\n",
      "EPOCH-->9\n",
      " Training Loss----->   0.17006076614420074\n",
      "EPOCH-->10\n",
      " Training Loss----->   0.16528372231194416\n",
      "EPOCH-->11\n",
      " Training Loss----->   0.16093072503941985\n",
      "EPOCH-->12\n",
      " Training Loss----->   0.15694097153693493\n",
      "EPOCH-->13\n",
      " Training Loss----->   0.1532634136323151\n",
      "EPOCH-->14\n",
      " Training Loss----->   0.1498552792167583\n",
      "EPOCH-->15\n",
      " Training Loss----->   0.14668074802070552\n",
      "EPOCH-->16\n",
      " Training Loss----->   0.1437098011791364\n",
      "EPOCH-->17\n",
      " Training Loss----->   0.1409172414626825\n",
      "EPOCH-->18\n",
      " Training Loss----->   0.13828186984080706\n",
      "EPOCH-->19\n",
      " Training Loss----->   0.1357857995270922\n",
      "EPOCH-->20\n",
      " Training Loss----->   0.13341388786290098\n",
      "EPOCH-->21\n",
      " Training Loss----->   0.13115326751583015\n",
      "EPOCH-->22\n",
      " Training Loss----->   0.12899296044570036\n",
      "EPOCH-->23\n",
      " Training Loss----->   0.12692356033171098\n",
      "EPOCH-->24\n",
      " Training Loss----->   0.12493697134836382\n",
      "EPOCH-->25\n",
      " Training Loss----->   0.12302619317663399\n",
      "EPOCH-->26\n",
      " Training Loss----->   0.12118514388417906\n",
      "EPOCH-->27\n",
      " Training Loss----->   0.11940851379688208\n",
      "EPOCH-->28\n",
      " Training Loss----->   0.11769164473080425\n",
      "EPOCH-->29\n",
      " Training Loss----->   0.11603042998621195\n",
      "EPOCH-->30\n",
      " Training Loss----->   0.11442123135401139\n",
      "EPOCH-->31\n",
      " Training Loss----->   0.11286081007887067\n",
      "EPOCH-->32\n",
      " Training Loss----->   0.11134626928884356\n",
      "EPOCH-->33\n",
      " Training Loss----->   0.10987500586123522\n",
      "EPOCH-->34\n",
      " Training Loss----->   0.10844467006807353\n",
      "EPOCH-->35\n",
      " Training Loss----->   0.10705313164792654\n",
      "EPOCH-->36\n",
      " Training Loss----->   0.10569845119717798\n",
      "EPOCH-->37\n",
      " Training Loss----->   0.10437885597404338\n",
      "EPOCH-->38\n",
      " Training Loss----->   0.10309271937137865\n",
      "EPOCH-->39\n",
      " Training Loss----->   0.1018385434468293\n",
      "EPOCH-->40\n",
      " Training Loss----->   0.1006149440068507\n",
      "EPOCH-->41\n",
      " Training Loss----->   0.09942063782926103\n",
      "EPOCH-->42\n",
      " Training Loss----->   0.09825443168102117\n",
      "EPOCH-->43\n",
      " Training Loss----->   0.09711521284690597\n",
      "EPOCH-->44\n",
      " Training Loss----->   0.09600194093308993\n",
      "EPOCH-->45\n",
      " Training Loss----->   0.09491364074938893\n",
      "EPOCH-->46\n",
      " Training Loss----->   0.0938493961065879\n",
      "EPOCH-->47\n",
      " Training Loss----->   0.09280834439222996\n",
      "EPOCH-->48\n",
      " Training Loss----->   0.09178967181049616\n",
      "EPOCH-->49\n",
      " Training Loss----->   0.09079260919022018\n",
      "EPOCH-->50\n",
      " Training Loss----->   0.08981642828034747\n"
     ]
    }
   ],
   "source": [
    "loss,acc = model.train(X,y,2,50,metrics=\"accuracy\")"
   ]
  },
  {
   "cell_type": "code",
   "execution_count": 95,
   "metadata": {},
   "outputs": [
    {
     "data": {
      "text/plain": [
       "(array([[0.25712639, 0.74287361]]), array([1], dtype=int64))"
      ]
     },
     "execution_count": 95,
     "metadata": {},
     "output_type": "execute_result"
    }
   ],
   "source": [
    "model.predict(X[3])"
   ]
  },
  {
   "cell_type": "code",
   "execution_count": 96,
   "metadata": {},
   "outputs": [
    {
     "data": {
      "text/plain": [
       "array([0])"
      ]
     },
     "execution_count": 96,
     "metadata": {},
     "output_type": "execute_result"
    }
   ],
   "source": [
    "y[3]"
   ]
  },
  {
   "cell_type": "code",
   "execution_count": 110,
   "metadata": {},
   "outputs": [
    {
     "data": {
      "text/plain": [
       "75.0"
      ]
     },
     "execution_count": 110,
     "metadata": {},
     "output_type": "execute_result"
    }
   ],
   "source": [
    "acc"
   ]
  },
  {
   "cell_type": "code",
   "execution_count": 98,
   "metadata": {},
   "outputs": [],
   "source": [
    "import matplotlib.pyplot as plt"
   ]
  },
  {
   "cell_type": "code",
   "execution_count": 111,
   "metadata": {},
   "outputs": [
    {
     "data": {
      "text/plain": [
       "[<matplotlib.lines.Line2D at 0x1fd63373fc8>]"
      ]
     },
     "execution_count": 111,
     "metadata": {},
     "output_type": "execute_result"
    },
    {
     "data": {
      "image/png": "[encoded data removed]",
      "text/plain": [
       "<Figure size 432x288 with 1 Axes>"
      ]
     },
     "metadata": {
      "needs_background": "light"
     },
     "output_type": "display_data"
    }
   ],
   "source": [
    "plt.plot(loss)"
   ]
  },
  {
   "cell_type": "code",
   "execution_count": 24,
   "metadata": {},
   "outputs": [
    {
     "data": {
      "text/plain": [
       "array([[0],\n",
       "       [1],\n",
       "       [1],\n",
       "       [0]])"
      ]
     },
     "execution_count": 24,
     "metadata": {},
     "output_type": "execute_result"
    }
   ],
   "source": [
    "y"
   ]
  },
  {
   "cell_type": "code",
   "execution_count": 20,
   "metadata": {},
   "outputs": [],
   "source": [
    "from keras.layers import Dense\n",
    "from keras.models import Sequential"
   ]
  },
  {
   "cell_type": "code",
   "execution_count": null,
   "metadata": {},
   "outputs": [],
   "source": [
    "model = Sequential()\n",
    "model.add(Dense())"
   ]
  }
 ],
 "metadata": {
  "kernelspec": {
   "display_name": "Python 3",
   "language": "python",
   "name": "python3"
  },
  "language_info": {
   "codemirror_mode": {
    "name": "ipython",
    "version": 3
   },
   "file_extension": ".py",
   "mimetype": "text/x-python",
   "name": "python",
   "nbconvert_exporter": "python",
   "pygments_lexer": "ipython3",
   "version": "3.7.7"
  }
 },
 "nbformat": 4,
 "nbformat_minor": 4
}
