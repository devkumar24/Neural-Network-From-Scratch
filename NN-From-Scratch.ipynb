{
 "cells": [
  {
   "cell_type": "markdown",
   "metadata": {},
   "source": [
    "### Code-NN\n",
    " - It is way similar to tensorflow model but not as tensorflow, tensorflow is more advance than \n",
    "    this, but I am improving this a lot that It should compete tensorflow"
   ]
  },
  {
   "cell_type": "code",
   "execution_count": 1,
   "metadata": {},
   "outputs": [
    {
     "name": "stderr",
     "output_type": "stream",
     "text": [
      "Using TensorFlow backend.\n"
     ]
    }
   ],
   "source": [
    "import numpy as np\n",
    "import matplotlib.pyplot as plt\n",
    "from keras.utils import to_categorical"
   ]
  },
  {
   "cell_type": "code",
   "execution_count": 2,
   "metadata": {},
   "outputs": [],
   "source": [
    "X = np.array([\n",
    "    [0,0],\n",
    "    [1,0],\n",
    "    [0,1],\n",
    "    [1,1]\n",
    "])\n",
    "y = np.array([0,1,1,0])\n",
    "y = y.reshape(-1,1)"
   ]
  },
  {
   "cell_type": "code",
   "execution_count": 3,
   "metadata": {},
   "outputs": [
    {
     "data": {
      "text/plain": [
       "((4, 2), (4, 1))"
      ]
     },
     "execution_count": 3,
     "metadata": {},
     "output_type": "execute_result"
    }
   ],
   "source": [
    "X.shape,y.shape"
   ]
  },
  {
   "cell_type": "code",
   "execution_count": 4,
   "metadata": {},
   "outputs": [
    {
     "data": {
      "image/png": "[encoded data removed]",
      "text/plain": [
       "<Figure size 432x288 with 1 Axes>"
      ]
     },
     "metadata": {
      "needs_background": "light"
     },
     "output_type": "display_data"
    }
   ],
   "source": [
    "plt.scatter(X[:,0],X[:,1],c = y)\n",
    "plt.show()"
   ]
  },
  {
   "cell_type": "code",
   "execution_count": 5,
   "metadata": {},
   "outputs": [],
   "source": [
    "input_size = 2\n",
    "layers = [4,3]\n",
    "output_size = 2\n",
    "epochs = 10"
   ]
  },
  {
   "cell_type": "code",
   "execution_count": 6,
   "metadata": {},
   "outputs": [],
   "source": [
    "def ReLu(Z):\n",
    "    return np.maximum(0,Z)"
   ]
  },
  {
   "cell_type": "code",
   "execution_count": 7,
   "metadata": {},
   "outputs": [],
   "source": [
    "def softmax(y):\n",
    "    \"\"\"\n",
    "    softmax = e^y(i)/sum(e^y(i))\n",
    "    \"\"\"\n",
    "    \n",
    "    ea = np.exp(y)\n",
    "    \n",
    "    total = ea/np.sum(ea,axis = 1,keepdims=True)\n",
    "        \n",
    "    return total"
   ]
  },
  {
   "cell_type": "code",
   "execution_count": null,
   "metadata": {},
   "outputs": [],
   "source": [
    "class NN:\n",
    "    def __init__(self,hidden_layers,output_layer,input_layer,activation = \"relu\"):\n",
    "        model_layers = {}\n",
    "        self.activation = activation\n",
    "        total_layers = 1 + len(hidden_layers) + 1\n",
    "        layers = []\n",
    "        layers.append(input_layer)\n",
    "        for i in hidden_layers:\n",
    "            layers.append(i)\n",
    "        layers.append(output_layer)\n",
    "        layers = np.array(layers)\n",
    "        # layers[0]---input_layer\n",
    "        #layers[total_layer-1]---output_layer\n",
    "        for layer_no in range(total_layers-1):\n",
    "            model_layers[layer_no] = [np.random.randn(layers[layer_no],layers[layer_no+1]),np.zeros((1,layers[layer_no+1]))]\n",
    "        self.model = model_layers\n",
    "        \n",
    "    \n",
    "    def forward_NeuralNetwork(self,X):\n",
    "        model  = self.model\n",
    "        W = []\n",
    "        b = []\n",
    "        for key in model.keys():\n",
    "            W.append(model[key][0])\n",
    "            b.append(model[key][1])\n",
    "        W = np.array(W)\n",
    "        Z = []\n",
    "        A = []\n",
    "        for i in range(W.shape[0]):\n",
    "            if i == 0:\n",
    "                Z.append(np.dot(X,W[0]) + b[0])\n",
    "                A.append(np.tanh(Z[0]))\n",
    "                \n",
    "            else :\n",
    "                if i == W.shape[0] - 1:\n",
    "                    Z.append(np.dot(A[i-1],W[i]) + b[i])\n",
    "                    A.append(softmax(Z[i]))\n",
    "                else:\n",
    "                    Z.append(np.dot(A[i-1],W[i]) + b[i])\n",
    "                    A.append(np.tanh(Z[i]))\n",
    "        self.activation_units = (A)\n",
    "        self.W = (W)\n",
    "        self.b = (b)\n",
    "        self.Z = (Z)\n",
    "        print(self.activation_units)\n",
    "        return A[-1]\n",
    "        \n",
    "    def backward_NeuralNetwork(self,X,y,learning_rate = 0.001):\n",
    "        model  = self.model\n",
    "        W = self.W\n",
    "        b = self.b\n",
    "        A = self.activation_units\n",
    "        dZ = []\n",
    "        db = []\n",
    "        dW = []\n",
    "        for i in reversed(range(W.shape[0])):\n",
    "            if i == W.shape[0] - 1:\n",
    "                dZ.append(A[i] - y)    \n",
    "            else:\n",
    "                if i == 0:\n",
    "                    dZ.append( (1-np.square(A[i])) * np.dot(dZ[W.shape[0]-i-2],W[i+1].T) )\n",
    "                else:\n",
    "                    dZ.append( (1-np.square(A[i])) * np.dot(dZ[W.shape[0]-i-2],W[i+1].T) )\n",
    "                              \n",
    "        dZ = dZ[::-1]\n",
    "        for i in range(W.shape[0]):\n",
    "            if i == W.shape[0] - 1:\n",
    "                dZ.append(A[i] - y)\n",
    "                dW.append(np.dot(A[i-1].T,dZ[i]))\n",
    "                db.append(np.sum(dZ[i],axis = 0))    \n",
    "            else:\n",
    "                if i == 0:\n",
    "                    dZ.append( (1-np.square(A[i])) * np.dot(dZ[i+1],W[i+1].T) )\n",
    "                    dW.append(np.dot(X.T,dZ[i]))\n",
    "                    db.append(np.sum(dZ[i],axis = 0))\n",
    "                else:\n",
    "                    dZ.append( (1-np.square(A[i])) * np.dot(dZ[i+1],W[i+1].T) )\n",
    "                    dW.append(np.dot(A[i-1].T,dZ[i]))\n",
    "                    db.append(np.sum(dZ[i],axis = 0))\n",
    "            \n",
    "            W[i] -= learning_rate * dW[i]\n",
    "            b[i] -= learning_rate * db[i]\n",
    "    \n",
    "        self.W = W\n",
    "        self.b = b\n",
    "        \n",
    "        \n",
    "    \n",
    "    \n",
    "    "
   ]
  }
 ],
 "metadata": {
  "kernelspec": {
   "display_name": "Python 3",
   "language": "python",
   "name": "python3"
  },
  "language_info": {
   "codemirror_mode": {
    "name": "ipython",
    "version": 3
   },
   "file_extension": ".py",
   "mimetype": "text/x-python",
   "name": "python",
   "nbconvert_exporter": "python",
   "pygments_lexer": "ipython3",
   "version": "3.7.7"
  }
 },
 "nbformat": 4,
 "nbformat_minor": 4
}
