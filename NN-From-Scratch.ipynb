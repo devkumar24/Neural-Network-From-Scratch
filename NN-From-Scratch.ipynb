{
 "cells": [
  {
   "cell_type": "markdown",
   "metadata": {},
   "source": [
    "### Code-NN\n",
    " - It is way similar to tensorflow model but not as tensorflow, tensorflow is more advance than \n",
    "    this, but I am improving this a lot that It should compete tensorflow"
   ]
  },
  {
   "cell_type": "code",
   "execution_count": 1,
   "metadata": {},
   "outputs": [
    {
     "name": "stderr",
     "output_type": "stream",
     "text": [
      "Using TensorFlow backend.\n",
      "F:\\Anaconda_Files\\Anaconda\\envs\\tensorflow-env\\lib\\importlib\\_bootstrap.py:219: RuntimeWarning: numpy.ufunc size changed, may indicate binary incompatibility. Expected 192 from C header, got 216 from PyObject\n",
      "  return f(*args, **kwds)\n"
     ]
    }
   ],
   "source": [
    "import numpy as np\n",
    "import matplotlib.pyplot as plt\n",
    "from keras.utils import to_categorical\n",
    "from sklearn.datasets import make_blobs,make_circles,make_classification"
   ]
  },
  {
   "cell_type": "code",
   "execution_count": 2,
   "metadata": {},
   "outputs": [],
   "source": [
    "X = np.array([\n",
    "    [0,0],\n",
    "    [1,0],\n",
    "    [0,1],\n",
    "    [1,1]\n",
    "])\n",
    "y = np.array([0,1,1,0])\n",
    "y = y.reshape(-1,1)"
   ]
  },
  {
   "cell_type": "code",
   "execution_count": 3,
   "metadata": {},
   "outputs": [
    {
     "data": {
      "text/plain": [
       "((4, 2), (4, 1))"
      ]
     },
     "execution_count": 3,
     "metadata": {},
     "output_type": "execute_result"
    }
   ],
   "source": [
    "X.shape,y.shape"
   ]
  },
  {
   "cell_type": "code",
   "execution_count": 4,
   "metadata": {},
   "outputs": [
    {
     "data": {
      "image/png": "[encoded data removed]",
      "text/plain": [
       "<Figure size 432x288 with 1 Axes>"
      ]
     },
     "metadata": {
      "needs_background": "light"
     },
     "output_type": "display_data"
    }
   ],
   "source": [
    "plt.scatter(X[:,0],X[:,1],c = y)\n",
    "plt.show()"
   ]
  },
  {
   "cell_type": "code",
   "execution_count": 5,
   "metadata": {},
   "outputs": [],
   "source": [
    "def ReLu(Z):\n",
    "    return np.maximum(0,Z)"
   ]
  },
  {
   "cell_type": "code",
   "execution_count": 6,
   "metadata": {},
   "outputs": [],
   "source": [
    "def softmax(y):\n",
    "    \"\"\"\n",
    "    softmax = e^y(i)/sum(e^y(i))\n",
    "    \"\"\"\n",
    "    \n",
    "    ea = np.exp(y)\n",
    "    \n",
    "    total = ea/np.sum(ea,axis = 1,keepdims=True)\n",
    "        \n",
    "    return total"
   ]
  },
  {
   "cell_type": "code",
   "execution_count": 40,
   "metadata": {},
   "outputs": [],
   "source": [
    "class MLP:\n",
    "    \n",
    "    def __init__(self,hidden_layers,output_layer,input_layer,activation = \"relu\",output_layer_activation = \"softmax\"):\n",
    "        # Dictionary of all layers with its weight and bias\n",
    "        model_layers = {}\n",
    "        # make self varible for activation\n",
    "        self.activation = activation\n",
    "        # Total no of layers include input + hidden + output layers \n",
    "        total_layers = 1 + len(hidden_layers) + 1\n",
    "        # layers list [input_layer,hidden_layer,output_layer]\n",
    "        # layers[0]--->input_layer\n",
    "        #layers[total_layer-1]--->output_layer\n",
    "        layers = []\n",
    "        layers.append(input_layer)\n",
    "        for i in hidden_layers:\n",
    "            layers.append(i)\n",
    "        layers.append(output_layer)\n",
    "        layers = np.array(layers)\n",
    "        for layer_no in range(total_layers-1):\n",
    "            model_layers[layer_no] = [np.random.randn(layers[layer_no],layers[layer_no+1]),np.zeros((1,layers[layer_no+1]))]\n",
    "        # make class variable self.model_layers to store model_layers\n",
    "        self.model_layers = model_layers\n",
    "        \n",
    "    # function to do forward pass\n",
    "    def forward_propagation(self,X):\n",
    "        '''\n",
    "        This function forward_propagation will make model variable that is having \n",
    "        self.model_layers which includes weight and bias for particular layer,\n",
    "        then it will 4 list i.e., activation units,weight matrix,bias matrix and \n",
    "        Z matrix, and it will return last activation unit.\n",
    "        \n",
    "        \n",
    "        Take an input X(array) and do forward pass operation and return last activation\n",
    "        function.\n",
    "        \n",
    "        example ->\n",
    "        Input: X(array)\n",
    "        Operation: hidden_layers = [4,3]\n",
    "                   input_layer = 2\n",
    "                   output_layer = 2\n",
    "                   \n",
    "                   total_layers = 4\n",
    "                   layers = [2,4,3,2]\n",
    "                   \n",
    "                   Z[0] = X*W[0] + b[0]\n",
    "                   A[0] = activation_function(Z[0])\n",
    "                   \n",
    "                   Z[1] = A[1]*W[1] + b[1]\n",
    "                   A[1] = activation_function(Z[1])\n",
    "        \n",
    "                   Z[2] = A[1]*W[2] + b[2]\n",
    "                   A[2] = activation_function(Z[2])\n",
    "                   \n",
    "        Output: A[2]\n",
    "        '''\n",
    "        # make model variable of self.model_layers\n",
    "        model  = self.model_layers\n",
    "        # make 4 lists of weight metrics, bias metrics, activation metrics, Z metrics\n",
    "        W = []\n",
    "        b = []\n",
    "        Z = []\n",
    "        A = []\n",
    "        # append values in Weight metrics and bias metrics\n",
    "        for key in model.keys():\n",
    "            W.append(model[key][0])\n",
    "            b.append(model[key][1])\n",
    "        W = np.array(W)\n",
    "        # append values in activation units metrics and Z mertics \n",
    "        for i in range(W.shape[0]):\n",
    "            if i == 0:\n",
    "                Z.append(np.dot(X,W[0]) + b[0])\n",
    "                A.append(np.tanh(Z[0]))\n",
    "                \n",
    "            else :\n",
    "                if i == W.shape[0] - 1:\n",
    "                    Z.append(np.dot(A[i-1],W[i]) + b[i])\n",
    "                    A.append(softmax(Z[i]))\n",
    "                else:\n",
    "                    Z.append(np.dot(A[i-1],W[i]) + b[i])\n",
    "                    A.append(np.tanh(Z[i]))\n",
    "                    \n",
    "        # make class variables of all four lists\n",
    "        self.activation_units = (A)\n",
    "        self.W = (W)\n",
    "        self.b = (b)\n",
    "        self.Z = (Z)\n",
    "        \n",
    "        return A[-1]\n",
    "    \n",
    "    # function to do backpropagation in Multi Layer Perceptron\n",
    "    def backward_propagation(self,X,y,learning_rate = 0.001):\n",
    "        '''\n",
    "        This function backward_propagation is initally taking self.model_layers,\n",
    "        self.W,self.b,self.activation_units these 4 will help to do backpropagation \n",
    "        in Multi Layer Perceptron.\n",
    "        \n",
    "        As above 4 things will help in computing dZ,dW,db i.e., the derivatives of Z metrics,\n",
    "        Weight metrics and bias metrics and later perform gradient descent algo. and\n",
    "        update weight and biases\n",
    "        \n",
    "        It takes an input as X(input array) and its prediction array(y), and takes an\n",
    "        input hyper-parameter learning_rate to perform gradient descent algo.\n",
    "        \n",
    "        Therefore, \n",
    "            Backpropagation is basiaclly perform gardient descent algo, and is to\n",
    "            compute dZ,dW,db \n",
    "        example ->\n",
    "        Input: X(input array)\n",
    "        Operation: To Compute dZ,dW,db\n",
    "                   we need W,b,Z,A\n",
    "                   \n",
    "                   dZ[2] = A[2] - y\n",
    "                   dW[2] = (A[1].dZ[2])\n",
    "                   db[2] = dZ[2]\n",
    "                   \n",
    "                   dZ[1] = derivative of activation_function * (dZ[2]*W[2])\n",
    "                   dW[1] = (A[0].dZ[1])\n",
    "                   db[1] = dZ[1]\n",
    "                   \n",
    "                   dZ[0] = derivative of activation_function * (dZ[1]*W[1])\n",
    "                   dW[0] = (X.dZ[0])\n",
    "                   db[0] = dZ[0]\n",
    "                   \n",
    "        Output: Perfrom Gradient Descent Algo\n",
    "                W[i] -= learning_rate * dW[i]\n",
    "                b[i] -= learning_rate * db[i]\n",
    "        '''\n",
    "        # make model variable of self.model_layers\n",
    "        model  = self.model_layers\n",
    "        W = self.W\n",
    "        b = self.b\n",
    "        A = self.activation_units\n",
    "        dZ = []\n",
    "        db = []\n",
    "        dW = []\n",
    "        # calculate dZ\n",
    "        for i in reversed(range(W.shape[0])):\n",
    "            if i == W.shape[0] - 1:\n",
    "                dZ.append(A[i] - y)    \n",
    "            else:\n",
    "                if i == 0:\n",
    "                    dZ.append( (1-np.square(A[i])) * np.dot(dZ[W.shape[0]-i-2],W[i+1].T) )\n",
    "                else:\n",
    "                    dZ.append( (1-np.square(A[i])) * np.dot(dZ[W.shape[0]-i-2],W[i+1].T) )\n",
    "        # reverse dZ so that dZ will get be related to dW and db\n",
    "        dZ = dZ[::-1]\n",
    "        # calculate dW and db\n",
    "        for i in range(W.shape[0]):\n",
    "            if i == W.shape[0] - 1:\n",
    "                dW.append(np.dot(A[i-1].T,dZ[i]))\n",
    "                db.append(np.sum(dZ[i],axis = 0))    \n",
    "            else:\n",
    "                if i == 0:\n",
    "                    dW.append(np.dot(X.T,dZ[i]))\n",
    "                    db.append(np.sum(dZ[i],axis = 0))\n",
    "                else:\n",
    "                    dW.append(np.dot(A[i-1].T,dZ[i]))\n",
    "                    db.append(np.sum(dZ[i],axis = 0))\n",
    "            \n",
    "            # perform gradient descent algo.\n",
    "            W[i] -= learning_rate * dW[i]\n",
    "            b[i] -= learning_rate * db[i]\n",
    "        # class variable to store W and b, after updation\n",
    "        self.W = W\n",
    "        self.b = b\n",
    "        \n",
    "    # Predict function to perform prediction\n",
    "    def predict(self,X):\n",
    "        '''\n",
    "        This function will takes an x_query as input and return the output as per\n",
    "        given y(prediction)\n",
    "        \n",
    "        Return:\n",
    "            1: Probabilities \n",
    "            2: index of max probability\n",
    "        '''\n",
    "        y_out = self.forward_propagation(X)\n",
    "        \n",
    "        return y_out,np.argmax(y_out,axis = 1)\n",
    "    \n",
    "    # Loss Function to calculate loss\n",
    "    def loss(self,y_opt,p):\n",
    "        '''\n",
    "        It will calculate mean squared loss, i.e., categorical cross_entropy loss\n",
    "        \n",
    "        retuurn loss\n",
    "        '''\n",
    "        l = np.mean(y_opt*np.log(p))\n",
    "        return -l\n",
    "    \n",
    "    # Training Function\n",
    "    def train(self,X,y,batch_size,epochs,metrics):\n",
    "        '''\n",
    "        This Train function is basically doing training and perform particular metrics like \n",
    "        \"accurcay\",\"r2Score\", depend on what we calculate, \n",
    "        and it will predict loss after every loss,\n",
    "        it contains a list of training loss, that contains all the losses(the loss calculated after\n",
    "        every iteration,\n",
    "        example->\n",
    "         X.shape[0] = 500\n",
    "         BATCH_SIZE = 32\n",
    "         NO_OF_ITERATIONS = int(X.shape[0]/BATCH_SIZE)-1\n",
    "         training_loss.shape = (len(NO_OF_ITERATIONS))\n",
    "         ).\n",
    "         \n",
    "        Prediction score will be calcuated after each epoch, and it is also having a numpy.ndarray\n",
    "        that store all the prediction score, for each iteration, and shape is same as training_loss\n",
    "        $ y should be one hot vector\n",
    "        $ training_loss is numpy.ndarray\n",
    "        $ epochs is hyper parameter\n",
    "        $ metrics is hyper parameter\n",
    "        '''\n",
    "        training_loss = []\n",
    "        train_loss_dic = {}\n",
    "        metrics_ = []\n",
    "        metrics_dic = {}\n",
    "        y_opt = to_categorical(y)\n",
    "        \n",
    "        for i in range(epochs):\n",
    "            print(\"EPOCH-->{}\".format(i+1))\n",
    "            for j in range(int(X.shape[0]/batch_size) - 1):\n",
    "                Y_ = self.forward_propagation(X[j*batch_size:(j+1)*batch_size])\n",
    "                l = self.loss(y_opt[j*batch_size:(j+1)*batch_size],Y_)\n",
    "                if metrics == \"accuracy\" or metrics == \"Accuracy\" or metrics == \"ACCURACY\":\n",
    "                    met = (sum(Y_ == y)/y.shape[0])*100\n",
    "                else:\n",
    "                    met = None\n",
    "                self.backward_propagation(X[j*batch_size:(j+1)*batch_size],y_opt[j*batch_size:(j+1)*batch_size])\n",
    "                training_loss.append(l)\n",
    "                metrics_.append(met)\n",
    "                train_loss_dic[i] = l\n",
    "                metrics_dic[i] = l\n",
    "                if train_loss_dic[i] == None:\n",
    "                    train_loss_dic[i] = l\n",
    "                else:\n",
    "                    train_loss_dic[i] = l\n",
    "            print(\" Training Loss----->  \",l)\n",
    "            \n",
    "        \n",
    "        return train_loss_dic,metrics_dic\n",
    "    \n",
    "    "
   ]
  },
  {
   "cell_type": "code",
   "execution_count": 46,
   "metadata": {},
   "outputs": [],
   "source": [
    "model = MLP(hidden_layers=[4,3],output_layer=2,input_layer=2)"
   ]
  },
  {
   "cell_type": "code",
   "execution_count": 47,
   "metadata": {},
   "outputs": [
    {
     "name": "stdout",
     "output_type": "stream",
     "text": [
      "EPOCH-->1\n"
     ]
    },
    {
     "name": "stderr",
     "output_type": "stream",
     "text": [
      "F:\\Anaconda_Files\\Anaconda\\envs\\tensorflow-env\\lib\\site-packages\\ipykernel_launcher.py:225: DeprecationWarning: elementwise comparison failed; this will raise an error in the future.\n"
     ]
    },
    {
     "ename": "TypeError",
     "evalue": "'bool' object is not iterable",
     "output_type": "error",
     "traceback": [
      "\u001b[1;31m---------------------------------------------------------------------------\u001b[0m",
      "\u001b[1;31mTypeError\u001b[0m                                 Traceback (most recent call last)",
      "\u001b[1;32m<ipython-input-47-2f7597832c9b>\u001b[0m in \u001b[0;36m<module>\u001b[1;34m\u001b[0m\n\u001b[1;32m----> 1\u001b[1;33m \u001b[0mmodel\u001b[0m\u001b[1;33m.\u001b[0m\u001b[0mtrain\u001b[0m\u001b[1;33m(\u001b[0m\u001b[0mX\u001b[0m\u001b[1;33m,\u001b[0m\u001b[0my\u001b[0m\u001b[1;33m,\u001b[0m\u001b[1;36m2\u001b[0m\u001b[1;33m,\u001b[0m\u001b[1;36m10\u001b[0m\u001b[1;33m,\u001b[0m\u001b[0mmetrics\u001b[0m\u001b[1;33m=\u001b[0m\u001b[1;34m\"accuracy\"\u001b[0m\u001b[1;33m)\u001b[0m\u001b[1;33m\u001b[0m\u001b[1;33m\u001b[0m\u001b[0m\n\u001b[0m",
      "\u001b[1;32m<ipython-input-40-eae52ec0c85f>\u001b[0m in \u001b[0;36mtrain\u001b[1;34m(self, X, y, batch_size, epochs, metrics)\u001b[0m\n\u001b[0;32m    223\u001b[0m                 \u001b[0ml\u001b[0m \u001b[1;33m=\u001b[0m \u001b[0mself\u001b[0m\u001b[1;33m.\u001b[0m\u001b[0mloss\u001b[0m\u001b[1;33m(\u001b[0m\u001b[0my_opt\u001b[0m\u001b[1;33m[\u001b[0m\u001b[0mj\u001b[0m\u001b[1;33m*\u001b[0m\u001b[0mbatch_size\u001b[0m\u001b[1;33m:\u001b[0m\u001b[1;33m(\u001b[0m\u001b[0mj\u001b[0m\u001b[1;33m+\u001b[0m\u001b[1;36m1\u001b[0m\u001b[1;33m)\u001b[0m\u001b[1;33m*\u001b[0m\u001b[0mbatch_size\u001b[0m\u001b[1;33m]\u001b[0m\u001b[1;33m,\u001b[0m\u001b[0mY_\u001b[0m\u001b[1;33m)\u001b[0m\u001b[1;33m\u001b[0m\u001b[1;33m\u001b[0m\u001b[0m\n\u001b[0;32m    224\u001b[0m                 \u001b[1;32mif\u001b[0m \u001b[0mmetrics\u001b[0m \u001b[1;33m==\u001b[0m \u001b[1;34m\"accuracy\"\u001b[0m \u001b[1;32mor\u001b[0m \u001b[0mmetrics\u001b[0m \u001b[1;33m==\u001b[0m \u001b[1;34m\"Accuracy\"\u001b[0m \u001b[1;32mor\u001b[0m \u001b[0mmetrics\u001b[0m \u001b[1;33m==\u001b[0m \u001b[1;34m\"ACCURACY\"\u001b[0m\u001b[1;33m:\u001b[0m\u001b[1;33m\u001b[0m\u001b[1;33m\u001b[0m\u001b[0m\n\u001b[1;32m--> 225\u001b[1;33m                     \u001b[0mmet\u001b[0m \u001b[1;33m=\u001b[0m \u001b[1;33m(\u001b[0m\u001b[0msum\u001b[0m\u001b[1;33m(\u001b[0m\u001b[0mY_\u001b[0m \u001b[1;33m==\u001b[0m \u001b[0my\u001b[0m\u001b[1;33m)\u001b[0m\u001b[1;33m/\u001b[0m\u001b[0my\u001b[0m\u001b[1;33m.\u001b[0m\u001b[0mshape\u001b[0m\u001b[1;33m[\u001b[0m\u001b[1;36m0\u001b[0m\u001b[1;33m]\u001b[0m\u001b[1;33m)\u001b[0m\u001b[1;33m*\u001b[0m\u001b[1;36m100\u001b[0m\u001b[1;33m\u001b[0m\u001b[1;33m\u001b[0m\u001b[0m\n\u001b[0m\u001b[0;32m    226\u001b[0m                 \u001b[1;32melse\u001b[0m\u001b[1;33m:\u001b[0m\u001b[1;33m\u001b[0m\u001b[1;33m\u001b[0m\u001b[0m\n\u001b[0;32m    227\u001b[0m                     \u001b[0mmet\u001b[0m \u001b[1;33m=\u001b[0m \u001b[1;32mNone\u001b[0m\u001b[1;33m\u001b[0m\u001b[1;33m\u001b[0m\u001b[0m\n",
      "\u001b[1;31mTypeError\u001b[0m: 'bool' object is not iterable"
     ]
    }
   ],
   "source": [
    "model.train(X,y,2,10,metrics=\"accuracy\")"
   ]
  },
  {
   "cell_type": "code",
   "execution_count": 30,
   "metadata": {},
   "outputs": [
    {
     "name": "stdout",
     "output_type": "stream",
     "text": [
      "[array([[-0.00121461,  0.00100665,  0.00622787, -0.00574468]]), array([[-0.0093351 ,  0.01538209,  0.01652933]]), array([[0.49851027, 0.50148973]])]\n",
      "[[0.49851027 0.50148973]]\n"
     ]
    },
    {
     "data": {
      "text/plain": [
       "array([1], dtype=int64)"
      ]
     },
     "execution_count": 30,
     "metadata": {},
     "output_type": "execute_result"
    }
   ],
   "source": [
    "model.predict(X[0])"
   ]
  },
  {
   "cell_type": "code",
   "execution_count": 31,
   "metadata": {},
   "outputs": [
    {
     "data": {
      "text/plain": [
       "array([0])"
      ]
     },
     "execution_count": 31,
     "metadata": {},
     "output_type": "execute_result"
    }
   ],
   "source": [
    "y[0]"
   ]
  },
  {
   "cell_type": "code",
   "execution_count": 15,
   "metadata": {},
   "outputs": [
    {
     "name": "stdout",
     "output_type": "stream",
     "text": [
      "[array([[-0.01342753,  0.0267609 ,  0.0006956 , -0.00989456]]), array([[-0.03282873,  0.04428288,  0.09311656]]), array([[0.50770326, 0.49229674]])]\n",
      "[[0.50770326 0.49229674]]\n",
      "[array([[-0.09595524, -0.33180878, -0.09967312,  0.50136105]]), array([[ 0.02665382,  0.17334572, -0.83627723]]), array([[0.35964772, 0.64035228]])]\n",
      "[[0.35964772 0.64035228]]\n",
      "[array([[-0.98534361,  0.57675421, -0.02132224,  0.01742284]]), array([[-0.96445039,  0.9722111 ,  0.97640928]]), array([[0.70663376, 0.29336624]])]\n",
      "[[0.70663376 0.29336624]]\n",
      "[array([[-0.98756706,  0.27841087, -0.12142416,  0.52153213]]), array([[-0.94667586,  0.97638624,  0.74967385]]), array([[0.67291706, 0.32708294]])]\n",
      "[[0.67291706 0.32708294]]\n",
      "[array([0], dtype=int64), array([1], dtype=int64), array([0], dtype=int64), array([0], dtype=int64)]\n"
     ]
    }
   ],
   "source": [
    "y_out = []\n",
    "for i in range(X.shape[0]):\n",
    "    y_out.append(model.predict(X[i]))"
   ]
  },
  {
   "cell_type": "code",
   "execution_count": 16,
   "metadata": {},
   "outputs": [
    {
     "name": "stdout",
     "output_type": "stream",
     "text": [
      "[array([0], dtype=int64), array([1], dtype=int64), array([0], dtype=int64), array([0], dtype=int64)]\n"
     ]
    }
   ],
   "source": [
    "print(y_out)"
   ]
  },
  {
   "cell_type": "code",
   "execution_count": 23,
   "metadata": {},
   "outputs": [
    {
     "data": {
      "text/plain": [
       "array([75.])"
      ]
     },
     "execution_count": 23,
     "metadata": {},
     "output_type": "execute_result"
    }
   ],
   "source": [
    "sum(y_out == y)/4*100"
   ]
  },
  {
   "cell_type": "code",
   "execution_count": 24,
   "metadata": {},
   "outputs": [
    {
     "data": {
      "text/plain": [
       "array([[0],\n",
       "       [1],\n",
       "       [1],\n",
       "       [0]])"
      ]
     },
     "execution_count": 24,
     "metadata": {},
     "output_type": "execute_result"
    }
   ],
   "source": [
    "y"
   ]
  },
  {
   "cell_type": "code",
   "execution_count": 20,
   "metadata": {},
   "outputs": [],
   "source": [
    "from keras.layers import Dense\n",
    "from keras.models import Sequential"
   ]
  },
  {
   "cell_type": "code",
   "execution_count": null,
   "metadata": {},
   "outputs": [],
   "source": [
    "model = Sequential()\n",
    "model.add(Dense())"
   ]
  }
 ],
 "metadata": {
  "kernelspec": {
   "display_name": "Python 3",
   "language": "python",
   "name": "python3"
  },
  "language_info": {
   "codemirror_mode": {
    "name": "ipython",
    "version": 3
   },
   "file_extension": ".py",
   "mimetype": "text/x-python",
   "name": "python",
   "nbconvert_exporter": "python",
   "pygments_lexer": "ipython3",
   "version": "3.7.7"
  }
 },
 "nbformat": 4,
 "nbformat_minor": 4
}
